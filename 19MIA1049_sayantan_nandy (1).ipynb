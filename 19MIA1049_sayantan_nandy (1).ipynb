{
  "nbformat": 4,
  "nbformat_minor": 0,
  "metadata": {
    "colab": {
      "name": "19MIA1049_sayantan_nandy.ipynb",
      "provenance": [],
      "collapsed_sections": []
    },
    "kernelspec": {
      "display_name": "Python 3",
      "name": "python3"
    },
    "language_info": {
      "name": "python"
    }
  },
  "cells": [
    {
      "cell_type": "markdown",
      "metadata": {
        "id": "gWmvJ4kFkqJx"
      },
      "source": [
        "**pandas to read data , numpy to convert our data into a format suitable to feed our classification , seaborn and matplotlib for visualizations , sklearn for SVM**"
      ]
    },
    {
      "cell_type": "code",
      "metadata": {
        "id": "7ssTSUGfRcbb"
      },
      "source": [
        "import pandas as pd\n",
        "import numpy as np\n",
        "import seaborn as sns\n",
        "import matplotlib.pyplot as plt\n",
        "% matplotlib inline"
      ],
      "execution_count": 51,
      "outputs": []
    },
    {
      "cell_type": "markdown",
      "metadata": {
        "id": "xIYzcQPeko_0"
      },
      "source": [
        ""
      ]
    },
    {
      "cell_type": "code",
      "metadata": {
        "colab": {
          "base_uri": "https://localhost:8080/"
        },
        "id": "6rreB-kFR7-B",
        "outputId": "9e5dc2ca-db22-4a7f-9c22-37400b1fb283"
      },
      "source": [
        "!wget --no-check-certificate 'https://docs.google.com/uc?export=download&id=1N-sApw6cV2wTZxW8YcsgoHJmOAgD44G9' -O winequality.csv "
      ],
      "execution_count": 52,
      "outputs": [
        {
          "output_type": "stream",
          "name": "stdout",
          "text": [
            "/bin/bash: wget --no-check-certificate https://docs.google.com/uc?export=download&id=1N-sApw6cV2wTZxW8YcsgoHJmOAgD44G9 -O winequality.csv: No such file or directory\n"
          ]
        }
      ]
    },
    {
      "cell_type": "markdown",
      "metadata": {
        "id": "jatMpVzGkcTD"
      },
      "source": [
        "**IMPORTING DATASET**"
      ]
    },
    {
      "cell_type": "code",
      "metadata": {
        "colab": {
          "base_uri": "https://localhost:8080/",
          "height": 356
        },
        "id": "Mxziev1rR8A4",
        "outputId": "c3b2669d-15a6-49d3-f3fd-5a163b76ad89"
      },
      "source": [
        "df=pd.read_csv('https://docs.google.com/uc?export=download&id=1N-sApw6cV2wTZxW8YcsgoHJmOAgD44G9')\n",
        "df.head(10)"
      ],
      "execution_count": 53,
      "outputs": [
        {
          "output_type": "execute_result",
          "data": {
            "text/html": [
              "<div>\n",
              "<style scoped>\n",
              "    .dataframe tbody tr th:only-of-type {\n",
              "        vertical-align: middle;\n",
              "    }\n",
              "\n",
              "    .dataframe tbody tr th {\n",
              "        vertical-align: top;\n",
              "    }\n",
              "\n",
              "    .dataframe thead th {\n",
              "        text-align: right;\n",
              "    }\n",
              "</style>\n",
              "<table border=\"1\" class=\"dataframe\">\n",
              "  <thead>\n",
              "    <tr style=\"text-align: right;\">\n",
              "      <th></th>\n",
              "      <th>fixed acidity</th>\n",
              "      <th>volatile acidity</th>\n",
              "      <th>citric acid</th>\n",
              "      <th>residual sugar</th>\n",
              "      <th>chlorides</th>\n",
              "      <th>free sulfur dioxide</th>\n",
              "      <th>total sulfur dioxide</th>\n",
              "      <th>density</th>\n",
              "      <th>pH</th>\n",
              "      <th>sulphates</th>\n",
              "      <th>alcohol</th>\n",
              "      <th>quality</th>\n",
              "    </tr>\n",
              "  </thead>\n",
              "  <tbody>\n",
              "    <tr>\n",
              "      <th>0</th>\n",
              "      <td>7.0</td>\n",
              "      <td>0.27</td>\n",
              "      <td>0.36</td>\n",
              "      <td>20.7</td>\n",
              "      <td>0.045</td>\n",
              "      <td>45.0</td>\n",
              "      <td>170.0</td>\n",
              "      <td>1.0010</td>\n",
              "      <td>3.00</td>\n",
              "      <td>0.45</td>\n",
              "      <td>8.8</td>\n",
              "      <td>6</td>\n",
              "    </tr>\n",
              "    <tr>\n",
              "      <th>1</th>\n",
              "      <td>6.3</td>\n",
              "      <td>0.30</td>\n",
              "      <td>0.34</td>\n",
              "      <td>1.6</td>\n",
              "      <td>0.049</td>\n",
              "      <td>14.0</td>\n",
              "      <td>132.0</td>\n",
              "      <td>0.9940</td>\n",
              "      <td>3.30</td>\n",
              "      <td>0.49</td>\n",
              "      <td>9.5</td>\n",
              "      <td>6</td>\n",
              "    </tr>\n",
              "    <tr>\n",
              "      <th>2</th>\n",
              "      <td>8.1</td>\n",
              "      <td>0.28</td>\n",
              "      <td>0.40</td>\n",
              "      <td>6.9</td>\n",
              "      <td>0.050</td>\n",
              "      <td>30.0</td>\n",
              "      <td>97.0</td>\n",
              "      <td>0.9951</td>\n",
              "      <td>3.26</td>\n",
              "      <td>0.44</td>\n",
              "      <td>10.1</td>\n",
              "      <td>6</td>\n",
              "    </tr>\n",
              "    <tr>\n",
              "      <th>3</th>\n",
              "      <td>7.2</td>\n",
              "      <td>0.23</td>\n",
              "      <td>0.32</td>\n",
              "      <td>8.5</td>\n",
              "      <td>0.058</td>\n",
              "      <td>47.0</td>\n",
              "      <td>186.0</td>\n",
              "      <td>0.9956</td>\n",
              "      <td>3.19</td>\n",
              "      <td>0.40</td>\n",
              "      <td>9.9</td>\n",
              "      <td>6</td>\n",
              "    </tr>\n",
              "    <tr>\n",
              "      <th>4</th>\n",
              "      <td>7.2</td>\n",
              "      <td>0.23</td>\n",
              "      <td>0.32</td>\n",
              "      <td>8.5</td>\n",
              "      <td>0.058</td>\n",
              "      <td>47.0</td>\n",
              "      <td>186.0</td>\n",
              "      <td>0.9956</td>\n",
              "      <td>3.19</td>\n",
              "      <td>0.40</td>\n",
              "      <td>9.9</td>\n",
              "      <td>6</td>\n",
              "    </tr>\n",
              "    <tr>\n",
              "      <th>5</th>\n",
              "      <td>8.1</td>\n",
              "      <td>0.28</td>\n",
              "      <td>0.40</td>\n",
              "      <td>6.9</td>\n",
              "      <td>0.050</td>\n",
              "      <td>30.0</td>\n",
              "      <td>97.0</td>\n",
              "      <td>0.9951</td>\n",
              "      <td>3.26</td>\n",
              "      <td>0.44</td>\n",
              "      <td>10.1</td>\n",
              "      <td>6</td>\n",
              "    </tr>\n",
              "    <tr>\n",
              "      <th>6</th>\n",
              "      <td>6.2</td>\n",
              "      <td>0.32</td>\n",
              "      <td>0.16</td>\n",
              "      <td>7.0</td>\n",
              "      <td>0.045</td>\n",
              "      <td>30.0</td>\n",
              "      <td>136.0</td>\n",
              "      <td>0.9949</td>\n",
              "      <td>3.18</td>\n",
              "      <td>0.47</td>\n",
              "      <td>9.6</td>\n",
              "      <td>6</td>\n",
              "    </tr>\n",
              "    <tr>\n",
              "      <th>7</th>\n",
              "      <td>7.0</td>\n",
              "      <td>0.27</td>\n",
              "      <td>0.36</td>\n",
              "      <td>20.7</td>\n",
              "      <td>0.045</td>\n",
              "      <td>45.0</td>\n",
              "      <td>170.0</td>\n",
              "      <td>1.0010</td>\n",
              "      <td>3.00</td>\n",
              "      <td>0.45</td>\n",
              "      <td>8.8</td>\n",
              "      <td>6</td>\n",
              "    </tr>\n",
              "    <tr>\n",
              "      <th>8</th>\n",
              "      <td>6.3</td>\n",
              "      <td>0.30</td>\n",
              "      <td>0.34</td>\n",
              "      <td>1.6</td>\n",
              "      <td>0.049</td>\n",
              "      <td>14.0</td>\n",
              "      <td>132.0</td>\n",
              "      <td>0.9940</td>\n",
              "      <td>3.30</td>\n",
              "      <td>0.49</td>\n",
              "      <td>9.5</td>\n",
              "      <td>6</td>\n",
              "    </tr>\n",
              "    <tr>\n",
              "      <th>9</th>\n",
              "      <td>8.1</td>\n",
              "      <td>0.22</td>\n",
              "      <td>0.43</td>\n",
              "      <td>1.5</td>\n",
              "      <td>0.044</td>\n",
              "      <td>28.0</td>\n",
              "      <td>129.0</td>\n",
              "      <td>0.9938</td>\n",
              "      <td>3.22</td>\n",
              "      <td>0.45</td>\n",
              "      <td>11.0</td>\n",
              "      <td>6</td>\n",
              "    </tr>\n",
              "  </tbody>\n",
              "</table>\n",
              "</div>"
            ],
            "text/plain": [
              "   fixed acidity  volatile acidity  citric acid  ...  sulphates  alcohol  quality\n",
              "0            7.0              0.27         0.36  ...       0.45      8.8        6\n",
              "1            6.3              0.30         0.34  ...       0.49      9.5        6\n",
              "2            8.1              0.28         0.40  ...       0.44     10.1        6\n",
              "3            7.2              0.23         0.32  ...       0.40      9.9        6\n",
              "4            7.2              0.23         0.32  ...       0.40      9.9        6\n",
              "5            8.1              0.28         0.40  ...       0.44     10.1        6\n",
              "6            6.2              0.32         0.16  ...       0.47      9.6        6\n",
              "7            7.0              0.27         0.36  ...       0.45      8.8        6\n",
              "8            6.3              0.30         0.34  ...       0.49      9.5        6\n",
              "9            8.1              0.22         0.43  ...       0.45     11.0        6\n",
              "\n",
              "[10 rows x 12 columns]"
            ]
          },
          "metadata": {},
          "execution_count": 53
        }
      ]
    },
    {
      "cell_type": "markdown",
      "metadata": {
        "id": "mJri_qLkkbV8"
      },
      "source": [
        "**EXPLORATORY DATA ANALYSIS**"
      ]
    },
    {
      "cell_type": "code",
      "metadata": {
        "colab": {
          "base_uri": "https://localhost:8080/"
        },
        "id": "9LZzBVOWR8Dr",
        "outputId": "fb505083-0ed8-4c36-87bf-ffb4eb80bf45"
      },
      "source": [
        "df.shape"
      ],
      "execution_count": 54,
      "outputs": [
        {
          "output_type": "execute_result",
          "data": {
            "text/plain": [
              "(4898, 12)"
            ]
          },
          "metadata": {},
          "execution_count": 54
        }
      ]
    },
    {
      "cell_type": "markdown",
      "metadata": {
        "id": "_SEgpmz_lRRq"
      },
      "source": [
        "**CHECKING OUT FOR MISSING VALUES**"
      ]
    },
    {
      "cell_type": "code",
      "metadata": {
        "colab": {
          "base_uri": "https://localhost:8080/"
        },
        "id": "yDA7Nr8hlDMK",
        "outputId": "495c1c5e-8e55-49ec-8eae-410ab12182e1"
      },
      "source": [
        "missing_val_count_by_column = (df.isnull().sum())\n",
        "print(missing_val_count_by_column)"
      ],
      "execution_count": 57,
      "outputs": [
        {
          "output_type": "stream",
          "name": "stdout",
          "text": [
            "fixed acidity           0\n",
            "volatile acidity        0\n",
            "citric acid             0\n",
            "residual sugar          0\n",
            "chlorides               0\n",
            "free sulfur dioxide     0\n",
            "total sulfur dioxide    0\n",
            "density                 0\n",
            "pH                      0\n",
            "sulphates               0\n",
            "alcohol                 0\n",
            "quality                 0\n",
            "dtype: int64\n"
          ]
        }
      ]
    },
    {
      "cell_type": "markdown",
      "metadata": {
        "id": "95qw4-AZlnbd"
      },
      "source": [
        "**visualization**"
      ]
    },
    {
      "cell_type": "code",
      "metadata": {
        "colab": {
          "base_uri": "https://localhost:8080/",
          "height": 420
        },
        "id": "s0EVTnSllr8H",
        "outputId": "f1e00651-b067-4f67-cd74-c55d40cd0e4d"
      },
      "source": [
        "# correlation\n",
        "plt.figure(figsize=(10,5))\n",
        "sns.heatmap(df.corr(),cmap='coolwarm')\n",
        "plt.show()"
      ],
      "execution_count": 58,
      "outputs": [
        {
          "output_type": "display_data",
          "data": {
            "image/png": "[encoded data removed]",
            "text/plain": [
              "<Figure size 720x360 with 2 Axes>"
            ]
          },
          "metadata": {
            "needs_background": "light"
          }
        }
      ]
    },
    {
      "cell_type": "code",
      "metadata": {
        "colab": {
          "base_uri": "https://localhost:8080/",
          "height": 247
        },
        "id": "28zpRhFRlrz7",
        "outputId": "98a635ee-a7b7-427a-87ad-c0b1f8d4e2e3"
      },
      "source": [
        "#ploting countplot quality \n",
        "plt.figure(figsize=(5,3))\n",
        "sns.countplot(x='quality',data=df)"
      ],
      "execution_count": 59,
      "outputs": [
        {
          "output_type": "execute_result",
          "data": {
            "text/plain": [
              "<matplotlib.axes._subplots.AxesSubplot at 0x7f7402feadd0>"
            ]
          },
          "metadata": {},
          "execution_count": 59
        },
        {
          "output_type": "display_data",
          "data": {
            "image/png": "[encoded data removed]",
            "text/plain": [
              "<Figure size 360x216 with 1 Axes>"
            ]
          },
          "metadata": {
            "needs_background": "light"
          }
        }
      ]
    },
    {
      "cell_type": "markdown",
      "metadata": {
        "id": "28-7L60BmN2Z"
      },
      "source": [
        "**TRAINING MODEL**"
      ]
    },
    {
      "cell_type": "code",
      "metadata": {
        "id": "DjVGlMXKR8GK"
      },
      "source": [
        ""
      ],
      "execution_count": 57,
      "outputs": []
    },
    {
      "cell_type": "code",
      "metadata": {
        "id": "o3V7GnPXYDb_"
      },
      "source": [
        ""
      ],
      "execution_count": null,
      "outputs": []
    },
    {
      "cell_type": "code",
      "metadata": {
        "id": "UyCBNjOeY8u_"
      },
      "source": [
        "# Split between features and label\n",
        "y = df['quality'].values\n",
        "X = df.drop(axis=1, labels=['quality'])"
      ],
      "execution_count": 24,
      "outputs": []
    },
    {
      "cell_type": "code",
      "metadata": {
        "id": "aQnmKdxQZG0N"
      },
      "source": [
        "from sklearn.preprocessing import StandardScaler\n",
        "\n",
        "scaler = StandardScaler()\n",
        "X[X.columns] = scaler.fit_transform(X[X.columns])"
      ],
      "execution_count": 25,
      "outputs": []
    },
    {
      "cell_type": "code",
      "metadata": {
        "id": "7SHb9GjsZZ03"
      },
      "source": [
        "# Test and training validation sets\n",
        "from sklearn.model_selection import train_test_split\n",
        "\n",
        "x_train, x_test, y_train, y_test = train_test_split(X, y, test_size=0.2, random_state=2456, stratify=y)"
      ],
      "execution_count": 29,
      "outputs": []
    },
    {
      "cell_type": "code",
      "metadata": {
        "id": "QNR-ByQtZrmO"
      },
      "source": [
        "from sklearn.svm import SVC"
      ],
      "execution_count": 30,
      "outputs": []
    },
    {
      "cell_type": "code",
      "metadata": {
        "colab": {
          "base_uri": "https://localhost:8080/"
        },
        "id": "Sh10BccKZiDX",
        "outputId": "7d894098-e430-47d6-d7df-a630f05f2a0b"
      },
      "source": [
        "from sklearn.metrics import confusion_matrix, accuracy_score\n",
        "c = [0.001, 0.01, 0.1, 1, 2, 5, 10, 20,25]\n",
        "k = ['linear', 'poly', 'rbf']\n",
        "df=[]\n",
        "for i in c:\n",
        "  for j in k: \n",
        "    clf=SVC(C=i,kernel =j,random_state=1060)\n",
        "    clf.fit(x_train,y_train)\n",
        "    y_pred = clf.predict(x_test)\n",
        "    a=accuracy_score(y_test,y_pred)\n",
        "    m = confusion_matrix(y_test, y_pred)\n",
        "    train_accuracy = clf.score(x_train,y_train)\n",
        "    test_accuracy = clf.score(x_test,y_test)\n",
        "    print(\"train_accuracy:\",train_accuracy)\n",
        "    print(\"test_accuracy: \", test_accuracy)\n",
        "\n",
        "    print(\"accuracy=\",a)\n",
        "    print(\"confusion matrix=\",m)\n",
        "    print(\"=================================================================\")\n",
        "    df.append((i,j,test_accuracy,test_accuracy))\n",
        "\n",
        "cols=['i','k','train_accuracy','test_accuracy']\n",
        "result = pd.DataFrame(df, columns=cols)"
      ],
      "execution_count": 39,
      "outputs": [
        {
          "output_type": "stream",
          "name": "stdout",
          "text": [
            "train_accuracy: 0.46248085758039814\n",
            "test_accuracy:  0.46530612244897956\n",
            "accuracy= 0.46530612244897956\n",
            "confusion matrix= [[  0   0   1   3   0   0   0]\n",
            " [  0   0   9  24   0   0   0]\n",
            " [  0   0  24 267   0   0   0]\n",
            " [  0   0   8 432   0   0   0]\n",
            " [  0   0   1 175   0   0   0]\n",
            " [  0   0   0  35   0   0   0]\n",
            " [  0   0   0   1   0   0   0]]\n",
            "=================================================================\n",
            "train_accuracy: 0.450229709035222\n",
            "test_accuracy:  0.4479591836734694\n",
            "accuracy= 0.4479591836734694\n",
            "confusion matrix= [[  0   0   0   4   0   0   0]\n",
            " [  0   0   0  33   0   0   0]\n",
            " [  0   0   0 291   0   0   0]\n",
            " [  0   0   1 439   0   0   0]\n",
            " [  0   0   0 176   0   0   0]\n",
            " [  0   0   0  35   0   0   0]\n",
            " [  0   0   0   1   0   0   0]]\n",
            "=================================================================\n",
            "train_accuracy: 0.44869831546707506\n",
            "test_accuracy:  0.4489795918367347\n",
            "accuracy= 0.4489795918367347\n",
            "confusion matrix= [[  0   0   0   4   0   0   0]\n",
            " [  0   0   0  33   0   0   0]\n",
            " [  0   0   0 291   0   0   0]\n",
            " [  0   0   0 440   0   0   0]\n",
            " [  0   0   0 176   0   0   0]\n",
            " [  0   0   0  35   0   0   0]\n",
            " [  0   0   0   1   0   0   0]]\n",
            "=================================================================\n",
            "train_accuracy: 0.5211842776927004\n",
            "test_accuracy:  0.523469387755102\n",
            "accuracy= 0.523469387755102\n",
            "confusion matrix= [[  0   0   3   1   0   0   0]\n",
            " [  0   0  25   8   0   0   0]\n",
            " [  0   0 141 150   0   0   0]\n",
            " [  0   0  68 372   0   0   0]\n",
            " [  0   0   7 169   0   0   0]\n",
            " [  0   0   0  35   0   0   0]\n",
            " [  0   0   0   1   0   0   0]]\n",
            "=================================================================\n",
            "train_accuracy: 0.4614599285349668\n",
            "test_accuracy:  0.45510204081632655\n",
            "accuracy= 0.45510204081632655\n",
            "confusion matrix= [[  0   0   1   3   0   0   0]\n",
            " [  0   0   4  29   0   0   0]\n",
            " [  0   0  10 281   0   0   0]\n",
            " [  0   0   4 436   0   0   0]\n",
            " [  0   0   0 176   0   0   0]\n",
            " [  0   0   0  35   0   0   0]\n",
            " [  0   0   0   1   0   0   0]]\n",
            "=================================================================\n",
            "train_accuracy: 0.44869831546707506\n",
            "test_accuracy:  0.4489795918367347\n",
            "accuracy= 0.4489795918367347\n",
            "confusion matrix= [[  0   0   0   4   0   0   0]\n",
            " [  0   0   0  33   0   0   0]\n",
            " [  0   0   0 291   0   0   0]\n",
            " [  0   0   0 440   0   0   0]\n",
            " [  0   0   0 176   0   0   0]\n",
            " [  0   0   0  35   0   0   0]\n",
            " [  0   0   0   1   0   0   0]]\n",
            "=================================================================\n",
            "train_accuracy: 0.521694742215416\n",
            "test_accuracy:  0.5255102040816326\n",
            "accuracy= 0.5255102040816326\n",
            "confusion matrix= [[  0   0   3   1   0   0   0]\n",
            " [  0   0  25   8   0   0   0]\n",
            " [  0   0 157 134   0   0   0]\n",
            " [  0   0  82 358   0   0   0]\n",
            " [  0   0  10 166   0   0   0]\n",
            " [  0   0   3  32   0   0   0]\n",
            " [  0   0   0   1   0   0   0]]\n",
            "=================================================================\n",
            "train_accuracy: 0.5076569678407351\n",
            "test_accuracy:  0.48367346938775513\n",
            "accuracy= 0.48367346938775513\n",
            "confusion matrix= [[  0   0   3   1   0   0   0]\n",
            " [  0   1  12  20   0   0   0]\n",
            " [  0   3  54 234   0   0   0]\n",
            " [  0   0  23 414   3   0   0]\n",
            " [  0   0   1 170   5   0   0]\n",
            " [  0   0   0  33   2   0   0]\n",
            " [  0   0   0   1   0   0   0]]\n",
            "=================================================================\n",
            "train_accuracy: 0.5469627360898418\n",
            "test_accuracy:  0.5540816326530612\n",
            "accuracy= 0.5540816326530612\n",
            "confusion matrix= [[  0   0   1   3   0   0   0]\n",
            " [  0   0  23  10   0   0   0]\n",
            " [  0   0 158 133   0   0   0]\n",
            " [  0   0  63 376   1   0   0]\n",
            " [  0   0   5 162   9   0   0]\n",
            " [  0   0   0  33   2   0   0]\n",
            " [  0   0   0   0   1   0   0]]\n",
            "=================================================================\n",
            "train_accuracy: 0.5242470648289944\n",
            "test_accuracy:  0.5275510204081633\n",
            "accuracy= 0.5275510204081633\n",
            "confusion matrix= [[  0   0   3   1   0   0   0]\n",
            " [  0   0  25   8   0   0   0]\n",
            " [  0   0 161 130   0   0   0]\n",
            " [  0   0  84 356   0   0   0]\n",
            " [  0   0  10 166   0   0   0]\n",
            " [  0   0   3  32   0   0   0]\n",
            " [  0   0   0   1   0   0   0]]\n",
            "=================================================================\n",
            "train_accuracy: 0.5781010719754976\n",
            "test_accuracy:  0.5387755102040817\n",
            "accuracy= 0.5387755102040817\n",
            "confusion matrix= [[  0   1   2   1   0   0   0]\n",
            " [  0   5  17  11   0   0   0]\n",
            " [  0   3 111 176   1   0   0]\n",
            " [  0   2  43 380  15   0   0]\n",
            " [  0   0   2 142  32   0   0]\n",
            " [  0   0   0  26   9   0   0]\n",
            " [  0   0   0   0   1   0   0]]\n",
            "=================================================================\n",
            "train_accuracy: 0.6184277692700357\n",
            "test_accuracy:  0.5887755102040816\n",
            "accuracy= 0.5887755102040816\n",
            "confusion matrix= [[  0   0   2   2   0   0   0]\n",
            " [  0   3  22   8   0   0   0]\n",
            " [  0   3 179 109   0   0   0]\n",
            " [  0   0  71 344  25   0   0]\n",
            " [  0   0   5 120  51   0   0]\n",
            " [  0   0   0  28   7   0   0]\n",
            " [  0   0   0   0   1   0   0]]\n",
            "=================================================================\n",
            "train_accuracy: 0.5242470648289944\n",
            "test_accuracy:  0.5275510204081633\n",
            "accuracy= 0.5275510204081633\n",
            "confusion matrix= [[  0   0   3   1   0   0   0]\n",
            " [  0   0  25   8   0   0   0]\n",
            " [  0   0 161 130   0   0   0]\n",
            " [  0   0  84 356   0   0   0]\n",
            " [  0   0  10 166   0   0   0]\n",
            " [  0   0   3  32   0   0   0]\n",
            " [  0   0   0   1   0   0   0]]\n",
            "=================================================================\n",
            "train_accuracy: 0.5944359367023991\n",
            "test_accuracy:  0.5387755102040817\n",
            "accuracy= 0.5387755102040817\n",
            "confusion matrix= [[  0   2   1   1   0   0   0]\n",
            " [  0   6  16  11   0   0   0]\n",
            " [  1   4 111 174   1   0   0]\n",
            " [  0   3  46 370  21   0   0]\n",
            " [  0   1   1 134  40   0   0]\n",
            " [  0   0   0  26   8   1   0]\n",
            " [  0   0   0   0   1   0   0]]\n",
            "=================================================================\n",
            "train_accuracy: 0.6413986727922409\n",
            "test_accuracy:  0.5918367346938775\n",
            "accuracy= 0.5918367346938775\n",
            "confusion matrix= [[  0   0   3   1   0   0   0]\n",
            " [  0   6  20   7   0   0   0]\n",
            " [  0   3 173 114   1   0   0]\n",
            " [  0   0  68 345  27   0   0]\n",
            " [  0   0   5 115  56   0   0]\n",
            " [  0   0   0  23  12   0   0]\n",
            " [  0   0   0   0   1   0   0]]\n",
            "=================================================================\n",
            "train_accuracy: 0.5242470648289944\n",
            "test_accuracy:  0.5275510204081633\n",
            "accuracy= 0.5275510204081633\n",
            "confusion matrix= [[  0   0   3   1   0   0   0]\n",
            " [  0   0  25   8   0   0   0]\n",
            " [  0   0 161 130   0   0   0]\n",
            " [  0   0  84 356   0   0   0]\n",
            " [  0   0  10 166   0   0   0]\n",
            " [  0   0   3  32   0   0   0]\n",
            " [  0   0   0   1   0   0   0]]\n",
            "=================================================================\n",
            "train_accuracy: 0.611791730474732\n",
            "test_accuracy:  0.5448979591836735\n",
            "accuracy= 0.5448979591836735\n",
            "confusion matrix= [[  0   2   1   1   0   0   0]\n",
            " [  0   5  16  12   0   0   0]\n",
            " [  1   5 120 164   1   0   0]\n",
            " [  0   4  51 363  22   0   0]\n",
            " [  0   0   2 130  44   0   0]\n",
            " [  0   0   0  27   6   2   0]\n",
            " [  0   0   0   0   1   0   0]]\n",
            "=================================================================\n",
            "train_accuracy: 0.680193976518632\n",
            "test_accuracy:  0.6071428571428571\n",
            "accuracy= 0.6071428571428571\n",
            "confusion matrix= [[  0   0   3   1   0   0   0]\n",
            " [  0  10  17   6   0   0   0]\n",
            " [  0   5 173 112   1   0   0]\n",
            " [  1   3  61 348  27   0   0]\n",
            " [  0   0   5 112  59   0   0]\n",
            " [  0   1   1  16  12   5   0]\n",
            " [  0   0   0   0   1   0   0]]\n",
            "=================================================================\n",
            "train_accuracy: 0.5245022970903522\n",
            "test_accuracy:  0.5275510204081633\n",
            "accuracy= 0.5275510204081633\n",
            "confusion matrix= [[  0   0   3   1   0   0   0]\n",
            " [  0   0  25   8   0   0   0]\n",
            " [  0   0 161 130   0   0   0]\n",
            " [  0   0  84 356   0   0   0]\n",
            " [  0   0  10 166   0   0   0]\n",
            " [  0   0   3  32   0   0   0]\n",
            " [  0   0   0   1   0   0   0]]\n",
            "=================================================================\n",
            "train_accuracy: 0.6232771822358346\n",
            "test_accuracy:  0.5438775510204081\n",
            "accuracy= 0.5438775510204081\n",
            "confusion matrix= [[  0   2   1   1   0   0   0]\n",
            " [  0   5  17  11   0   0   0]\n",
            " [  2   6 122 161   0   0   0]\n",
            " [  0   7  52 360  21   0   0]\n",
            " [  0   0   3 128  43   2   0]\n",
            " [  0   1   1  24   6   3   0]\n",
            " [  0   0   0   0   1   0   0]]\n",
            "=================================================================\n",
            "train_accuracy: 0.7197549770290965\n",
            "test_accuracy:  0.610204081632653\n",
            "accuracy= 0.610204081632653\n",
            "confusion matrix= [[  0   2   2   0   0   0   0]\n",
            " [  0   9  18   6   0   0   0]\n",
            " [  0  11 179 100   1   0   0]\n",
            " [  1   5  66 335  33   0   0]\n",
            " [  0   0   5 103  66   2   0]\n",
            " [  0   1   1  12  12   9   0]\n",
            " [  0   0   0   0   1   0   0]]\n",
            "=================================================================\n",
            "train_accuracy: 0.5242470648289944\n",
            "test_accuracy:  0.5275510204081633\n",
            "accuracy= 0.5275510204081633\n",
            "confusion matrix= [[  0   0   3   1   0   0   0]\n",
            " [  0   0  25   8   0   0   0]\n",
            " [  0   0 161 130   0   0   0]\n",
            " [  0   0  84 356   0   0   0]\n",
            " [  0   0  10 166   0   0   0]\n",
            " [  0   0   3  32   0   0   0]\n",
            " [  0   0   0   1   0   0   0]]\n",
            "=================================================================\n",
            "train_accuracy: 0.6345074017355794\n",
            "test_accuracy:  0.5459183673469388\n",
            "accuracy= 0.5459183673469388\n",
            "confusion matrix= [[  1   2   0   1   0   0   0]\n",
            " [  0   5  17  11   0   0   0]\n",
            " [  3  10 123 155   0   0   0]\n",
            " [  0   7  51 356  26   0   0]\n",
            " [  0   0   3 125  46   2   0]\n",
            " [  0   1   0  23   7   4   0]\n",
            " [  0   0   0   0   1   0   0]]\n",
            "=================================================================\n",
            "train_accuracy: 0.7628892291985707\n",
            "test_accuracy:  0.6153061224489796\n",
            "accuracy= 0.6153061224489796\n",
            "confusion matrix= [[  0   1   1   2   0   0   0]\n",
            " [  0   8  22   3   0   0   0]\n",
            " [  0  13 185  91   2   0   0]\n",
            " [  1   5  73 328  32   1   0]\n",
            " [  0   2   4  94  71   5   0]\n",
            " [  0   1   0  13  10  11   0]\n",
            " [  0   0   0   0   1   0   0]]\n",
            "=================================================================\n",
            "train_accuracy: 0.5245022970903522\n",
            "test_accuracy:  0.5275510204081633\n",
            "accuracy= 0.5275510204081633\n",
            "confusion matrix= [[  0   0   3   1   0   0   0]\n",
            " [  0   0  25   8   0   0   0]\n",
            " [  0   0 161 130   0   0   0]\n",
            " [  0   0  84 356   0   0   0]\n",
            " [  0   0  10 166   0   0   0]\n",
            " [  0   0   3  32   0   0   0]\n",
            " [  0   0   0   1   0   0   0]]\n",
            "=================================================================\n",
            "train_accuracy: 0.6378254211332313\n",
            "test_accuracy:  0.5551020408163265\n",
            "accuracy= 0.5551020408163265\n",
            "confusion matrix= [[  1   2   0   1   0   0   0]\n",
            " [  0   5  17  11   0   0   0]\n",
            " [  3  10 126 152   0   0   0]\n",
            " [  0   7  47 360  26   0   0]\n",
            " [  0   0   3 124  47   2   0]\n",
            " [  0   1   1  22   6   5   0]\n",
            " [  0   0   0   0   1   0   0]]\n",
            "=================================================================\n",
            "train_accuracy: 0.781010719754977\n",
            "test_accuracy:  0.6112244897959184\n",
            "accuracy= 0.6112244897959184\n",
            "confusion matrix= [[  0   1   1   2   0   0   0]\n",
            " [  0   7  22   4   0   0   0]\n",
            " [  0  12 183  93   3   0   0]\n",
            " [  1   5  73 324  36   1   0]\n",
            " [  0   2   4  91  73   6   0]\n",
            " [  0   1   0  13   9  12   0]\n",
            " [  0   0   0   0   1   0   0]]\n",
            "=================================================================\n"
          ]
        }
      ]
    },
    {
      "cell_type": "code",
      "metadata": {
        "colab": {
          "base_uri": "https://localhost:8080/"
        },
        "id": "_Aou2sUEdwIf",
        "outputId": "fca98392-972c-40dc-92b4-3eac474132d8"
      },
      "source": [
        "print(\"Best Train: \", clf.score(x_train, y_train))\n",
        "print(\"Best Test:  \", clf.score(x_test, y_test))"
      ],
      "execution_count": 41,
      "outputs": [
        {
          "output_type": "stream",
          "name": "stdout",
          "text": [
            "Best Train:  0.781010719754977\n",
            "Best Test:   0.6112244897959184\n"
          ]
        }
      ]
    },
    {
      "cell_type": "code",
      "metadata": {
        "colab": {
          "base_uri": "https://localhost:8080/",
          "height": 880
        },
        "id": "iZuOlQx_eEog",
        "outputId": "2e37d112-c0c3-49a2-83df-4965c37c88df"
      },
      "source": [
        "result"
      ],
      "execution_count": 42,
      "outputs": [
        {
          "output_type": "execute_result",
          "data": {
            "text/html": [
              "<div>\n",
              "<style scoped>\n",
              "    .dataframe tbody tr th:only-of-type {\n",
              "        vertical-align: middle;\n",
              "    }\n",
              "\n",
              "    .dataframe tbody tr th {\n",
              "        vertical-align: top;\n",
              "    }\n",
              "\n",
              "    .dataframe thead th {\n",
              "        text-align: right;\n",
              "    }\n",
              "</style>\n",
              "<table border=\"1\" class=\"dataframe\">\n",
              "  <thead>\n",
              "    <tr style=\"text-align: right;\">\n",
              "      <th></th>\n",
              "      <th>i</th>\n",
              "      <th>k</th>\n",
              "      <th>train_accuracy</th>\n",
              "      <th>test_accuracy</th>\n",
              "    </tr>\n",
              "  </thead>\n",
              "  <tbody>\n",
              "    <tr>\n",
              "      <th>0</th>\n",
              "      <td>0.001</td>\n",
              "      <td>linear</td>\n",
              "      <td>0.465306</td>\n",
              "      <td>0.465306</td>\n",
              "    </tr>\n",
              "    <tr>\n",
              "      <th>1</th>\n",
              "      <td>0.001</td>\n",
              "      <td>poly</td>\n",
              "      <td>0.447959</td>\n",
              "      <td>0.447959</td>\n",
              "    </tr>\n",
              "    <tr>\n",
              "      <th>2</th>\n",
              "      <td>0.001</td>\n",
              "      <td>rbf</td>\n",
              "      <td>0.448980</td>\n",
              "      <td>0.448980</td>\n",
              "    </tr>\n",
              "    <tr>\n",
              "      <th>3</th>\n",
              "      <td>0.010</td>\n",
              "      <td>linear</td>\n",
              "      <td>0.523469</td>\n",
              "      <td>0.523469</td>\n",
              "    </tr>\n",
              "    <tr>\n",
              "      <th>4</th>\n",
              "      <td>0.010</td>\n",
              "      <td>poly</td>\n",
              "      <td>0.455102</td>\n",
              "      <td>0.455102</td>\n",
              "    </tr>\n",
              "    <tr>\n",
              "      <th>5</th>\n",
              "      <td>0.010</td>\n",
              "      <td>rbf</td>\n",
              "      <td>0.448980</td>\n",
              "      <td>0.448980</td>\n",
              "    </tr>\n",
              "    <tr>\n",
              "      <th>6</th>\n",
              "      <td>0.100</td>\n",
              "      <td>linear</td>\n",
              "      <td>0.525510</td>\n",
              "      <td>0.525510</td>\n",
              "    </tr>\n",
              "    <tr>\n",
              "      <th>7</th>\n",
              "      <td>0.100</td>\n",
              "      <td>poly</td>\n",
              "      <td>0.483673</td>\n",
              "      <td>0.483673</td>\n",
              "    </tr>\n",
              "    <tr>\n",
              "      <th>8</th>\n",
              "      <td>0.100</td>\n",
              "      <td>rbf</td>\n",
              "      <td>0.554082</td>\n",
              "      <td>0.554082</td>\n",
              "    </tr>\n",
              "    <tr>\n",
              "      <th>9</th>\n",
              "      <td>1.000</td>\n",
              "      <td>linear</td>\n",
              "      <td>0.527551</td>\n",
              "      <td>0.527551</td>\n",
              "    </tr>\n",
              "    <tr>\n",
              "      <th>10</th>\n",
              "      <td>1.000</td>\n",
              "      <td>poly</td>\n",
              "      <td>0.538776</td>\n",
              "      <td>0.538776</td>\n",
              "    </tr>\n",
              "    <tr>\n",
              "      <th>11</th>\n",
              "      <td>1.000</td>\n",
              "      <td>rbf</td>\n",
              "      <td>0.588776</td>\n",
              "      <td>0.588776</td>\n",
              "    </tr>\n",
              "    <tr>\n",
              "      <th>12</th>\n",
              "      <td>2.000</td>\n",
              "      <td>linear</td>\n",
              "      <td>0.527551</td>\n",
              "      <td>0.527551</td>\n",
              "    </tr>\n",
              "    <tr>\n",
              "      <th>13</th>\n",
              "      <td>2.000</td>\n",
              "      <td>poly</td>\n",
              "      <td>0.538776</td>\n",
              "      <td>0.538776</td>\n",
              "    </tr>\n",
              "    <tr>\n",
              "      <th>14</th>\n",
              "      <td>2.000</td>\n",
              "      <td>rbf</td>\n",
              "      <td>0.591837</td>\n",
              "      <td>0.591837</td>\n",
              "    </tr>\n",
              "    <tr>\n",
              "      <th>15</th>\n",
              "      <td>5.000</td>\n",
              "      <td>linear</td>\n",
              "      <td>0.527551</td>\n",
              "      <td>0.527551</td>\n",
              "    </tr>\n",
              "    <tr>\n",
              "      <th>16</th>\n",
              "      <td>5.000</td>\n",
              "      <td>poly</td>\n",
              "      <td>0.544898</td>\n",
              "      <td>0.544898</td>\n",
              "    </tr>\n",
              "    <tr>\n",
              "      <th>17</th>\n",
              "      <td>5.000</td>\n",
              "      <td>rbf</td>\n",
              "      <td>0.607143</td>\n",
              "      <td>0.607143</td>\n",
              "    </tr>\n",
              "    <tr>\n",
              "      <th>18</th>\n",
              "      <td>10.000</td>\n",
              "      <td>linear</td>\n",
              "      <td>0.527551</td>\n",
              "      <td>0.527551</td>\n",
              "    </tr>\n",
              "    <tr>\n",
              "      <th>19</th>\n",
              "      <td>10.000</td>\n",
              "      <td>poly</td>\n",
              "      <td>0.543878</td>\n",
              "      <td>0.543878</td>\n",
              "    </tr>\n",
              "    <tr>\n",
              "      <th>20</th>\n",
              "      <td>10.000</td>\n",
              "      <td>rbf</td>\n",
              "      <td>0.610204</td>\n",
              "      <td>0.610204</td>\n",
              "    </tr>\n",
              "    <tr>\n",
              "      <th>21</th>\n",
              "      <td>20.000</td>\n",
              "      <td>linear</td>\n",
              "      <td>0.527551</td>\n",
              "      <td>0.527551</td>\n",
              "    </tr>\n",
              "    <tr>\n",
              "      <th>22</th>\n",
              "      <td>20.000</td>\n",
              "      <td>poly</td>\n",
              "      <td>0.545918</td>\n",
              "      <td>0.545918</td>\n",
              "    </tr>\n",
              "    <tr>\n",
              "      <th>23</th>\n",
              "      <td>20.000</td>\n",
              "      <td>rbf</td>\n",
              "      <td>0.615306</td>\n",
              "      <td>0.615306</td>\n",
              "    </tr>\n",
              "    <tr>\n",
              "      <th>24</th>\n",
              "      <td>25.000</td>\n",
              "      <td>linear</td>\n",
              "      <td>0.527551</td>\n",
              "      <td>0.527551</td>\n",
              "    </tr>\n",
              "    <tr>\n",
              "      <th>25</th>\n",
              "      <td>25.000</td>\n",
              "      <td>poly</td>\n",
              "      <td>0.555102</td>\n",
              "      <td>0.555102</td>\n",
              "    </tr>\n",
              "    <tr>\n",
              "      <th>26</th>\n",
              "      <td>25.000</td>\n",
              "      <td>rbf</td>\n",
              "      <td>0.611224</td>\n",
              "      <td>0.611224</td>\n",
              "    </tr>\n",
              "  </tbody>\n",
              "</table>\n",
              "</div>"
            ],
            "text/plain": [
              "         i       k  train_accuracy  test_accuracy\n",
              "0    0.001  linear        0.465306       0.465306\n",
              "1    0.001    poly        0.447959       0.447959\n",
              "2    0.001     rbf        0.448980       0.448980\n",
              "3    0.010  linear        0.523469       0.523469\n",
              "4    0.010    poly        0.455102       0.455102\n",
              "5    0.010     rbf        0.448980       0.448980\n",
              "6    0.100  linear        0.525510       0.525510\n",
              "7    0.100    poly        0.483673       0.483673\n",
              "8    0.100     rbf        0.554082       0.554082\n",
              "9    1.000  linear        0.527551       0.527551\n",
              "10   1.000    poly        0.538776       0.538776\n",
              "11   1.000     rbf        0.588776       0.588776\n",
              "12   2.000  linear        0.527551       0.527551\n",
              "13   2.000    poly        0.538776       0.538776\n",
              "14   2.000     rbf        0.591837       0.591837\n",
              "15   5.000  linear        0.527551       0.527551\n",
              "16   5.000    poly        0.544898       0.544898\n",
              "17   5.000     rbf        0.607143       0.607143\n",
              "18  10.000  linear        0.527551       0.527551\n",
              "19  10.000    poly        0.543878       0.543878\n",
              "20  10.000     rbf        0.610204       0.610204\n",
              "21  20.000  linear        0.527551       0.527551\n",
              "22  20.000    poly        0.545918       0.545918\n",
              "23  20.000     rbf        0.615306       0.615306\n",
              "24  25.000  linear        0.527551       0.527551\n",
              "25  25.000    poly        0.555102       0.555102\n",
              "26  25.000     rbf        0.611224       0.611224"
            ]
          },
          "metadata": {},
          "execution_count": 42
        }
      ]
    },
    {
      "cell_type": "code",
      "metadata": {
        "colab": {
          "base_uri": "https://localhost:8080/",
          "height": 284
        },
        "id": "aayN4TYjidk3",
        "outputId": "1be14b43-23a4-4403-c934-88607dcae4e8"
      },
      "source": [
        "# Score versus C value\n",
        "ax = sns.lineplot(x=result['i'] ,y=result['test_accuracy']);\n",
        "ax.set(xlabel='C value', ylabel='Score')\n",
        "plt.show()"
      ],
      "execution_count": 44,
      "outputs": [
        {
          "output_type": "display_data",
          "data": {
            "image/png": "[encoded data removed]",
            "text/plain": [
              "<Figure size 432x288 with 1 Axes>"
            ]
          },
          "metadata": {}
        }
      ]
    },
    {
      "cell_type": "code",
      "metadata": {
        "colab": {
          "base_uri": "https://localhost:8080/",
          "height": 284
        },
        "id": "3cKh3TtGjtqp",
        "outputId": "29387a2f-ecd5-40db-bf15-64ceb7173e9f"
      },
      "source": [
        "ax = sns.lineplot(x=result['test_accuracy'] ,y=result['train_accuracy']);\n",
        "ax.set(xlabel='tarin ', ylabel='test')\n",
        "plt.show()"
      ],
      "execution_count": 61,
      "outputs": [
        {
          "output_type": "display_data",
          "data": {
            "image/png": "[encoded data removed]",
            "text/plain": [
              "<Figure size 432x288 with 1 Axes>"
            ]
          },
          "metadata": {
            "needs_background": "light"
          }
        }
      ]
    },
    {
      "cell_type": "code",
      "metadata": {
        "colab": {
          "base_uri": "https://localhost:8080/",
          "height": 284
        },
        "id": "Ll8DhwE7jbSB",
        "outputId": "de309b9f-6596-4724-a494-fdd8a839bb05"
      },
      "source": [
        "# Score vs selected kernel\n",
        "ax = sns.lineplot(x=result['k'] ,y=result['test_accuracy']);\n",
        "ax.set(xlabel='Kernel', ylabel='Score')\n",
        "plt.show()"
      ],
      "execution_count": 46,
      "outputs": [
        {
          "output_type": "display_data",
          "data": {
            "image/png": "[encoded data removed]",
            "text/plain": [
              "<Figure size 432x288 with 1 Axes>"
            ]
          },
          "metadata": {}
        }
      ]
    },
    {
      "cell_type": "code",
      "metadata": {
        "id": "td5ELuXrrgvz"
      },
      "source": [
        ""
      ],
      "execution_count": 67,
      "outputs": []
    },
    {
      "cell_type": "markdown",
      "metadata": {
        "id": "rWWTNq7Usd4i"
      },
      "source": [
        "For varied values of C and kernal rbf and poly  We can observe that as the value of C is increasing the accuracy tends to get better.  This will lead to over fitting.\n",
        "as c value gets increse  the error in training set is decreasing leading to increased accuracy of training set while the test accuracy keeps on decreasing.\n"
      ]
    },
    {
      "cell_type": "markdown",
      "metadata": {
        "id": "aHHH7-ainHJz"
      },
      "source": [
        "**for the given dataset**\n",
        "* Best Test accuracy:   0.6112244897959184\n",
        "* Best Train accuracy:  0.781010719754977\n",
        "\n",
        "\n",
        "\n",
        "\n",
        "\n",
        "\n",
        "\n"
      ]
    },
    {
      "cell_type": "markdown",
      "metadata": {
        "id": "E8kgDMZopv_4"
      },
      "source": [
        "fews things to observe\n",
        "\n",
        "\n",
        "*   if c value>5 test acurracy is getting constant\n",
        "*   more poly kernel the acurracy is high \n",
        "\n"
      ]
    },
    {
      "cell_type": "markdown",
      "metadata": {
        "id": "EhQpW2t5qZsf"
      },
      "source": [
        "which means Data is not linearly separable"
      ]
    }
  ]
}